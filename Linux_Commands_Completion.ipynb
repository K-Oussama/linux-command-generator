{
 "cells": [
  {
   "cell_type": "code",
   "execution_count": 1,
   "metadata": {},
   "outputs": [],
   "source": [
    "import openai\n",
    "import re\n",
    "import subprocess"
   ]
  },
  {
   "cell_type": "code",
   "execution_count": null,
   "metadata": {},
   "outputs": [],
   "source": [
    "# Load API key from file or prompt user for it\n",
    "api_key_filename = \"openai_api_key.txt\"\n",
    "try:\n",
    "    with open(api_key_filename, \"r\") as f:\n",
    "        api_key = f.read().strip()\n",
    "except FileNotFoundError:\n",
    "    api_key = input(\"Please enter your OpenAI API key: \").strip()\n",
    "    with open(api_key_filename, \"w\") as f:\n",
    "        f.write(api_key)"
   ]
  },
  {
   "cell_type": "code",
   "execution_count": 2,
   "metadata": {},
   "outputs": [],
   "source": [
    "# Set up the OpenAI API key and model ID\n",
    "openai.api_key = api_key\n",
    "model_id = \"text-davinci-002\""
   ]
  },
  {
   "cell_type": "code",
   "execution_count": 3,
   "metadata": {},
   "outputs": [],
   "source": [
    "# Define the prompt for the GPT API\n",
    "prompt = \"Generate a Linux command to {}\""
   ]
  },
  {
   "cell_type": "code",
   "execution_count": 4,
   "metadata": {},
   "outputs": [],
   "source": [
    "# Get user input\n",
    "user_input = input(\"Enter a description of the Linux command you want to generate: \")"
   ]
  },
  {
   "cell_type": "code",
   "execution_count": 5,
   "metadata": {},
   "outputs": [],
   "source": [
    "# Set up the parameters for the GPT API request\n",
    "params = {\n",
    "    \"model\": model_id,\n",
    "    \"prompt\": prompt.format(user_input),\n",
    "    \"temperature\": 0.7,\n",
    "    \"max_tokens\": 64,\n",
    "    \"top_p\": 1,\n",
    "    \"frequency_penalty\": 0,\n",
    "    \"presence_penalty\": 0\n",
    "}\n",
    "# Generate a response from the GPT API\n",
    "response = openai.Completion.create(**params)"
   ]
  },
  {
   "cell_type": "code",
   "execution_count": 6,
   "metadata": {},
   "outputs": [],
   "source": [
    "#extract the generated Linux command from the response\n",
    "linux_command = response.choices[0].text"
   ]
  },
  {
   "cell_type": "code",
   "execution_count": 7,
   "metadata": {},
   "outputs": [
    {
     "data": {
      "text/plain": [
       "'\\n\\nls -a'"
      ]
     },
     "execution_count": 7,
     "metadata": {},
     "output_type": "execute_result"
    }
   ],
   "source": [
    "linux_command"
   ]
  },
  {
   "cell_type": "code",
   "execution_count": 9,
   "metadata": {},
   "outputs": [],
   "source": [
    "# Execute the generated Linux command\n",
    "subprocess.run(linux_command.split())"
   ]
  }
 ],
 "metadata": {
  "kernelspec": {
   "display_name": "base",
   "language": "python",
   "name": "python3"
  },
  "language_info": {
   "codemirror_mode": {
    "name": "ipython",
    "version": 3
   },
   "file_extension": ".py",
   "mimetype": "text/x-python",
   "name": "python",
   "nbconvert_exporter": "python",
   "pygments_lexer": "ipython3",
   "version": "3.9.13"
  },
  "orig_nbformat": 4
 },
 "nbformat": 4,
 "nbformat_minor": 2
}
